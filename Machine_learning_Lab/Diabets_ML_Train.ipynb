{
  "nbformat": 4,
  "nbformat_minor": 0,
  "metadata": {
    "colab": {
      "provenance": [],
      "authorship_tag": "ABX9TyMfhfkCYHS1bbUAKakUYYW3",
      "include_colab_link": true
    },
    "kernelspec": {
      "name": "python3",
      "display_name": "Python 3"
    },
    "language_info": {
      "name": "python"
    }
  },
  "cells": [
    {
      "cell_type": "markdown",
      "metadata": {
        "id": "view-in-github",
        "colab_type": "text"
      },
      "source": [
        "<a href=\"https://colab.research.google.com/github/rakesh22230/ML_practise/blob/main/Diabets_ML_Train.ipynb\" target=\"_parent\"><img src=\"https://colab.research.google.com/assets/colab-badge.svg\" alt=\"Open In Colab\"/></a>"
      ]
    },
    {
      "cell_type": "code",
      "execution_count": 13,
      "metadata": {
        "colab": {
          "base_uri": "https://localhost:8080/"
        },
        "id": "ZUZohsKdE7qR",
        "outputId": "0e20f5d7-5b8d-48aa-91f5-817fd7aecbfd"
      },
      "outputs": [
        {
          "output_type": "stream",
          "name": "stdout",
          "text": [
            "   Pregnancies  Glucose  BloodPressure  SkinThickness  Insulin   BMI  \\\n",
            "0            6      148             72             35        0  33.6   \n",
            "1            1       85             66             29        0  26.6   \n",
            "2            8      183             64              0        0  23.3   \n",
            "3            1       89             66             23       94  28.1   \n",
            "4            0      137             40             35      168  43.1   \n",
            "\n",
            "   DiabetesPedigreeFunction  Age  Outcome  \n",
            "0                     0.627   50        1  \n",
            "1                     0.351   31        0  \n",
            "2                     0.672   32        1  \n",
            "3                     0.167   21        0  \n",
            "4                     2.288   33        1  \n",
            "Training complete.\n",
            "Intercept: -0.8582420095420096\n",
            "Coefficients: [ 0.01565323  0.00585266 -0.00248661  0.00073844 -0.00022976  0.01364543\n",
            "  0.14239101  0.0035676 ]\n",
            "     Actual  Predicted\n",
            "0         1   1.027230\n",
            "1         0   0.212534\n",
            "2         0   0.103813\n",
            "3         1   0.603935\n",
            "4         0   0.170025\n",
            "..      ...        ...\n",
            "149       1   0.242562\n",
            "150       0   0.085418\n",
            "151       1   0.592328\n",
            "152       0   0.130302\n",
            "153       0   0.230727\n",
            "\n",
            "[154 rows x 2 columns]\n",
            "Mean Squared Error: 0.14370648838141728\n"
          ]
        }
      ],
      "source": [
        "import pandas as pd\n",
        "import numpy as np\n",
        "import matplotlib.pyplot as plt\n",
        "\n",
        "# Load data\n",
        "dataset = pd.read_csv(\"https://raw.githubusercontent.com/rakesh22230/ML_practise/refs/heads/main/diabetes.csv\")\n",
        "print(dataset.head())\n",
        "\n",
        "# Prepare input and output\n",
        "x = dataset.iloc[:, :-1].values  # features (all columns except last)\n",
        "y = dataset.iloc[:, -1].values   # target (last column)\n",
        "\n",
        "# Split data into training and testing sets\n",
        "from sklearn.model_selection import train_test_split\n",
        "X_train, X_test, y_train, y_test = train_test_split(x, y, test_size=0.2, random_state=0)\n",
        "\n",
        "# Train Linear Regression model\n",
        "from sklearn.linear_model import LinearRegression\n",
        "regressor = LinearRegression()\n",
        "regressor.fit(X_train, y_train)\n",
        "print(\"Training complete.\")\n",
        "\n",
        "# Print intercept and coefficients\n",
        "print(\"Intercept:\", regressor.intercept_)\n",
        "print(\"Coefficients:\", regressor.coef_)\n",
        "\n",
        "# Predict test set results\n",
        "y_pred = regressor.predict(X_test)\n",
        "\n",
        "# Compare actual vs predicted values\n",
        "df = pd.DataFrame({'Actual': y_test, 'Predicted': y_pred})\n",
        "print(df)\n",
        "\n",
        "# Calculate mean squared error\n",
        "from sklearn import metrics\n",
        "mse = metrics.mean_squared_error(y_test, y_pred)\n",
        "print('Mean Squared Error:', mse)\n"
      ]
    }
  ]
}