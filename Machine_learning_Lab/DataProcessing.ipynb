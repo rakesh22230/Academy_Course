{
  "nbformat": 4,
  "nbformat_minor": 0,
  "metadata": {
    "colab": {
      "provenance": [],
      "authorship_tag": "ABX9TyNMu/CyOKmNiItjD2HQ8AU+",
      "include_colab_link": true
    },
    "kernelspec": {
      "name": "python3",
      "display_name": "Python 3"
    },
    "language_info": {
      "name": "python"
    }
  },
  "cells": [
    {
      "cell_type": "markdown",
      "metadata": {
        "id": "view-in-github",
        "colab_type": "text"
      },
      "source": [
        "<a href=\"https://colab.research.google.com/github/rakesh22230/ML_practise/blob/main/DataProcessing.ipynb\" target=\"_parent\"><img src=\"https://colab.research.google.com/assets/colab-badge.svg\" alt=\"Open In Colab\"/></a>"
      ]
    },
    {
      "cell_type": "code",
      "execution_count": 16,
      "metadata": {
        "colab": {
          "base_uri": "https://localhost:8080/"
        },
        "id": "3-9yapS8l2r4",
        "outputId": "a763fdac-2503-43d0-f620-16421e6d518a"
      },
      "outputs": [
        {
          "output_type": "stream",
          "name": "stdout",
          "text": [
            "<class 'pandas.core.frame.DataFrame'>\n",
            "RangeIndex: 891 entries, 0 to 890\n",
            "Data columns (total 12 columns):\n",
            " #   Column       Non-Null Count  Dtype  \n",
            "---  ------       --------------  -----  \n",
            " 0   PassengerId  891 non-null    int64  \n",
            " 1   Survived     891 non-null    int64  \n",
            " 2   Pclass       891 non-null    int64  \n",
            " 3   Name         891 non-null    object \n",
            " 4   Sex          891 non-null    object \n",
            " 5   Age          714 non-null    float64\n",
            " 6   SibSp        891 non-null    int64  \n",
            " 7   Parch        891 non-null    int64  \n",
            " 8   Ticket       891 non-null    object \n",
            " 9   Fare         891 non-null    float64\n",
            " 10  Cabin        204 non-null    object \n",
            " 11  Embarked     889 non-null    object \n",
            "dtypes: float64(2), int64(5), object(5)\n",
            "memory usage: 83.7+ KB\n",
            "   Survived  Pclass     Sex   Age  SibSp  Parch     Fare\n",
            "0         0       3    male  22.0      1      0   7.2500\n",
            "1         1       1  female  38.0      1      0  71.2833\n",
            "2         1       3  female  26.0      0      0   7.9250\n",
            "3         1       1  female  35.0      1      0  53.1000\n",
            "4         0       3    male  35.0      0      0   8.0500\n"
          ]
        }
      ],
      "source": [
        "\n",
        "import pandas as pd\n",
        "import numpy as np\n",
        "\n",
        "# read the titanic dataset\n",
        "df = pd.read_csv(\"https://raw.githubusercontent.com/Anshumank399/Titanic-Disaster/master/train.csv\")\n",
        "#  df = pd.read_csv(\"https://github.com/rakesh22230/ML_practise/blob/main/train.csv\")\n",
        "# Nan or null or None in the dataset.\n",
        "df.info()\n",
        "\n",
        "# # Dropping unnecessary columns such as Name, Ticket, PassengerId, Cabin, and Embarked.\n",
        "df.drop(\"Name\", axis=1, inplace=True)\n",
        "df.drop(\"Ticket\", axis=1, inplace=True)\n",
        "df.drop(\"PassengerId\", axis=1, inplace=True)\n",
        "df.drop(\"Cabin\", axis=1, inplace=True)\n",
        "df.drop(\"Embarked\", axis=1, inplace=True)\n",
        "\n",
        "print(df.head())\n",
        "\n",
        "\n"
      ]
    }
  ]
}