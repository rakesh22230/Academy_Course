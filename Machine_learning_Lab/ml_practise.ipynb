{
  "nbformat": 4,
  "nbformat_minor": 0,
  "metadata": {
    "colab": {
      "provenance": [],
      "mount_file_id": "https://gist.github.com/Ovik-Rakesh/7e790fac7c4a2331fc3fffaccc8fd548#file-ml_practise-ipynb",
      "authorship_tag": "ABX9TyPL7MuecMNlI51BHCqEvWZ+",
      "include_colab_link": true
    },
    "kernelspec": {
      "name": "python3",
      "display_name": "Python 3"
    },
    "language_info": {
      "name": "python"
    }
  },
  "cells": [
    {
      "cell_type": "markdown",
      "metadata": {
        "id": "view-in-github",
        "colab_type": "text"
      },
      "source": [
        "<a href=\"https://colab.research.google.com/github/Ovik-Rakesh/ML_practise/blob/main/ml_practise.ipynb\" target=\"_parent\"><img src=\"https://colab.research.google.com/assets/colab-badge.svg\" alt=\"Open In Colab\"/></a>"
      ]
    },
    {
      "cell_type": "code",
      "source": [
        "import requests\n",
        "import tkinter as tk\n",
        "from tkinter import messagebox\n",
        "\n",
        "API_KEY = '105450e8bb58d41f8374b982b5c64934'  # Your OpenWeatherMap API key\n",
        "\n",
        "def get_weather(city):\n",
        "    try:\n",
        "        url = f\"http://api.openweathermap.org/data/2.5/weather?q={city}&appid={API_KEY}&units=metric\"\n",
        "        response = requests.get(url)\n",
        "        data = response.json()\n",
        "\n",
        "        if data.get('cod') != 200:\n",
        "            messagebox.showerror(\"Error\", data.get('message', 'Error fetching data'))\n",
        "            return None\n",
        "\n",
        "        weather = {\n",
        "            'city': data['name'],\n",
        "            'temperature': data['main']['temp'],\n",
        "            'humidity': data['main']['humidity'],\n",
        "            'description': data['weather'][0]['description'].title()\n",
        "        }\n",
        "        return weather\n",
        "    except Exception as e:\n",
        "        messagebox.showerror(\"Error\", f\"Failed to get weather data:\\n{e}\")\n",
        "        return None\n",
        "\n",
        "def show_weather():\n",
        "    city = city_entry.get().strip()\n",
        "    if not city:\n",
        "        messagebox.showwarning(\"Input Error\", \"Please enter a city name.\")\n",
        "        return\n",
        "\n",
        "    weather = get_weather(city)\n",
        "    if weather:\n",
        "        result = (\n",
        "            f\"City: {weather['city']}\\n\"\n",
        "            f\"Temperature: {weather['temperature']} °C\\n\"\n",
        "            f\"Humidity: {weather['humidity']}%\\n\"\n",
        "            f\"Condition: {weather['description']}\"\n",
        "        )\n",
        "        result_label.config(text=result)\n",
        "\n",
        "# GUI setup\n",
        "root = tk.Tk()\n",
        "root.title(\"Weather App\")\n",
        "\n",
        "tk.Label(root, text=\"Enter city name:\").pack(pady=5)\n",
        "city_entry = tk.Entry(root, width=30)\n",
        "city_entry.pack(pady=5)\n",
        "\n",
        "tk.Button(root, text=\"Get Weather\", command=show_weather).pack(pady=10)\n",
        "\n",
        "result_label = tk.Label(root, text=\"\", font=(\"Arial\", 12))\n",
        "result_label.pack(pady=10)\n",
        "\n",
        "root.mainloop()\n"
      ],
      "metadata": {
        "id": "g4M3gbq4MSiC",
        "outputId": "28d5800a-534e-4491-c2fc-298ca6f51173",
        "colab": {
          "base_uri": "https://localhost:8080/",
          "height": 332
        }
      },
      "execution_count": 3,
      "outputs": [
        {
          "output_type": "error",
          "ename": "TclError",
          "evalue": "no display name and no $DISPLAY environment variable",
          "traceback": [
            "\u001b[0;31m---------------------------------------------------------------------------\u001b[0m",
            "\u001b[0;31mTclError\u001b[0m                                  Traceback (most recent call last)",
            "\u001b[0;32m/tmp/ipython-input-3-2371521355.py\u001b[0m in \u001b[0;36m<cell line: 0>\u001b[0;34m()\u001b[0m\n\u001b[1;32m     43\u001b[0m \u001b[0;34m\u001b[0m\u001b[0m\n\u001b[1;32m     44\u001b[0m \u001b[0;31m# GUI setup\u001b[0m\u001b[0;34m\u001b[0m\u001b[0;34m\u001b[0m\u001b[0m\n\u001b[0;32m---> 45\u001b[0;31m \u001b[0mroot\u001b[0m \u001b[0;34m=\u001b[0m \u001b[0mtk\u001b[0m\u001b[0;34m.\u001b[0m\u001b[0mTk\u001b[0m\u001b[0;34m(\u001b[0m\u001b[0;34m)\u001b[0m\u001b[0;34m\u001b[0m\u001b[0;34m\u001b[0m\u001b[0m\n\u001b[0m\u001b[1;32m     46\u001b[0m \u001b[0mroot\u001b[0m\u001b[0;34m.\u001b[0m\u001b[0mtitle\u001b[0m\u001b[0;34m(\u001b[0m\u001b[0;34m\"Weather App\"\u001b[0m\u001b[0;34m)\u001b[0m\u001b[0;34m\u001b[0m\u001b[0;34m\u001b[0m\u001b[0m\n\u001b[1;32m     47\u001b[0m \u001b[0;34m\u001b[0m\u001b[0m\n",
            "\u001b[0;32m/usr/lib/python3.11/tkinter/__init__.py\u001b[0m in \u001b[0;36m__init__\u001b[0;34m(self, screenName, baseName, className, useTk, sync, use)\u001b[0m\n\u001b[1;32m   2324\u001b[0m                 \u001b[0mbaseName\u001b[0m \u001b[0;34m=\u001b[0m \u001b[0mbaseName\u001b[0m \u001b[0;34m+\u001b[0m \u001b[0mext\u001b[0m\u001b[0;34m\u001b[0m\u001b[0;34m\u001b[0m\u001b[0m\n\u001b[1;32m   2325\u001b[0m         \u001b[0minteractive\u001b[0m \u001b[0;34m=\u001b[0m \u001b[0;32mFalse\u001b[0m\u001b[0;34m\u001b[0m\u001b[0;34m\u001b[0m\u001b[0m\n\u001b[0;32m-> 2326\u001b[0;31m         \u001b[0mself\u001b[0m\u001b[0;34m.\u001b[0m\u001b[0mtk\u001b[0m \u001b[0;34m=\u001b[0m \u001b[0m_tkinter\u001b[0m\u001b[0;34m.\u001b[0m\u001b[0mcreate\u001b[0m\u001b[0;34m(\u001b[0m\u001b[0mscreenName\u001b[0m\u001b[0;34m,\u001b[0m \u001b[0mbaseName\u001b[0m\u001b[0;34m,\u001b[0m \u001b[0mclassName\u001b[0m\u001b[0;34m,\u001b[0m \u001b[0minteractive\u001b[0m\u001b[0;34m,\u001b[0m \u001b[0mwantobjects\u001b[0m\u001b[0;34m,\u001b[0m \u001b[0museTk\u001b[0m\u001b[0;34m,\u001b[0m \u001b[0msync\u001b[0m\u001b[0;34m,\u001b[0m \u001b[0muse\u001b[0m\u001b[0;34m)\u001b[0m\u001b[0;34m\u001b[0m\u001b[0;34m\u001b[0m\u001b[0m\n\u001b[0m\u001b[1;32m   2327\u001b[0m         \u001b[0;32mif\u001b[0m \u001b[0museTk\u001b[0m\u001b[0;34m:\u001b[0m\u001b[0;34m\u001b[0m\u001b[0;34m\u001b[0m\u001b[0m\n\u001b[1;32m   2328\u001b[0m             \u001b[0mself\u001b[0m\u001b[0;34m.\u001b[0m\u001b[0m_loadtk\u001b[0m\u001b[0;34m(\u001b[0m\u001b[0;34m)\u001b[0m\u001b[0;34m\u001b[0m\u001b[0;34m\u001b[0m\u001b[0m\n",
            "\u001b[0;31mTclError\u001b[0m: no display name and no $DISPLAY environment variable"
          ]
        }
      ]
    }
  ]
}